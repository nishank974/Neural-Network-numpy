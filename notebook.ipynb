{
 "cells": [
  {
   "cell_type": "code",
   "execution_count": 9,
   "metadata": {},
   "outputs": [],
   "source": [
    "import numpy as np\n",
    "import matplotlib.pyplot as plt\n",
    "from pylab import show\n",
    "import struct\n",
    "from complete_nn import NeuralNetwork"
   ]
  },
  {
   "cell_type": "code",
   "execution_count": 10,
   "metadata": {},
   "outputs": [],
   "source": [
    "with open(\"./data/t10k-labels-idx1-ubyte\", 'rb') as flbl:\n",
    "    magic, num = struct.unpack(\">II\", flbl.read(8))\n",
    "    ytest = np.fromfile(flbl, dtype=np.int8)\n",
    "    \n",
    "with open(\"./data/t10k-images-idx3-ubyte\" , 'rb') as fimg:\n",
    "    magic, num, rows, cols = struct.unpack(\">IIII\", fimg.read(16))\n",
    "    xtest = np.fromfile(fimg, dtype=np.uint8).reshape(len(ytest),-1)\n",
    "\n",
    "with open(\"./data/train-labels-idx1-ubyte\", 'rb') as flbl:\n",
    "    magic, num = struct.unpack(\">II\", flbl.read(8))\n",
    "    ytrain = np.fromfile(flbl, dtype=np.int8)\n",
    "    \n",
    "with open(\"./data/train-images-idx3-ubyte\" , 'rb') as fimg:\n",
    "    magic, num, rows, cols = struct.unpack(\">IIII\", fimg.read(16))\n",
    "    xtrain = np.fromfile(fimg, dtype=np.uint8).reshape(len(ytrain),-1)"
   ]
  },
  {
   "cell_type": "code",
   "execution_count": 11,
   "metadata": {},
   "outputs": [
    {
     "name": "stdout",
     "output_type": "stream",
     "text": [
      "xtrain (60000, 784)\n",
      "xtest (10000, 784)\n",
      "ytrain (60000,)\n",
      "ytest (10000,)\n"
     ]
    }
   ],
   "source": [
    "print(\"xtrain\",xtrain.shape)\n",
    "print(\"xtest\",xtest.shape)\n",
    "print(\"ytrain\",ytrain.shape)\n",
    "print(\"ytest\",ytest.shape)\n",
    "\n",
    "xtrain = xtrain.astype(np.float32)\n",
    "xtest = xtest.astype(np.float32)\n",
    "ytrain = ytrain.astype(np.float32)\n",
    "ytest = ytest.astype(np.float32)\n",
    "\n",
    "xtrain/=255\n",
    "xtest/=255\n",
    "\n"
   ]
  },
  {
   "cell_type": "code",
   "execution_count": 12,
   "metadata": {},
   "outputs": [],
   "source": [
    "# seed taken to compare the models with same initialization\n",
    "np.random.seed(42)\n",
    "\n",
    "def one_hot(idx):\n",
    "    a = np.zeros(10)\n",
    "    np.put(a,idx,1)\n",
    "    return a"
   ]
  },
  {
   "cell_type": "code",
   "execution_count": 13,
   "metadata": {},
   "outputs": [],
   "source": [
    "ytrainOnehot = [] \n",
    "for val in ytrain:\n",
    "    ytrainOnehot.append(one_hot(val))\n",
    "\n",
    "ytrain = np.array(ytrainOnehot)"
   ]
  },
  {
   "cell_type": "code",
   "execution_count": 14,
   "metadata": {},
   "outputs": [],
   "source": [
    "ytestOnehot = [] \n",
    "for val in ytest:\n",
    "    ytestOnehot.append(one_hot(val))\n",
    "\n",
    "ytest = np.array(ytestOnehot)"
   ]
  },
  {
   "cell_type": "code",
   "execution_count": 7,
   "metadata": {},
   "outputs": [],
   "source": [
    "x = {\"train\": xtrain,\n",
    "       \"test\": xtest, }\n",
    "\n",
    "y = {\"train\": ytrain,\n",
    "       \"test\": ytest, }"
   ]
  },
  {
   "cell_type": "markdown",
   "metadata": {},
   "source": [
    "# exp1"
   ]
  },
  {
   "cell_type": "code",
   "execution_count": 16,
   "metadata": {},
   "outputs": [
    {
     "name": "stdout",
     "output_type": "stream",
     "text": [
      "ep: 0, train_acc: 0.10273333333333333, test_acc: 0.1048,train_loss: 3.119220179795512, test_loss: 3.119206780498013\n",
      "ep: 1, train_acc: 0.12308333333333334, test_acc: 0.1262,train_loss: 2.637647967150959, test_loss: 2.638811748326355\n",
      "ep: 2, train_acc: 0.13953333333333334, test_acc: 0.1404,train_loss: 2.485628659580165, test_loss: 2.4872717059999165\n",
      "ep: 3, train_acc: 0.15026666666666666, test_acc: 0.1498,train_loss: 2.405994149357598, test_loss: 2.4075347676786927\n",
      "ep: 4, train_acc: 0.15733333333333333, test_acc: 0.1586,train_loss: 2.353091576684442, test_loss: 2.35459773391437\n",
      "ep: 5, train_acc: 0.16386666666666666, test_acc: 0.1651,train_loss: 2.3136465138155375, test_loss: 2.3150941501955837\n",
      "ep: 6, train_acc: 0.16986666666666667, test_acc: 0.1696,train_loss: 2.2819315174816457, test_loss: 2.2833434107786577\n",
      "ep: 7, train_acc: 0.1749, test_acc: 0.1741,train_loss: 2.2550366973036127, test_loss: 2.2564346833410123\n",
      "ep: 8, train_acc: 0.18008333333333335, test_acc: 0.1761,train_loss: 2.231272928006117, test_loss: 2.2327315750786827\n",
      "ep: 9, train_acc: 0.18486666666666668, test_acc: 0.1813,train_loss: 2.2095168490339714, test_loss: 2.2110664677549563\n",
      "ep: 10, train_acc: 0.18901666666666667, test_acc: 0.1861,train_loss: 2.1890875011490394, test_loss: 2.1906413473427793\n",
      "ep: 11, train_acc: 0.19308333333333333, test_acc: 0.1901,train_loss: 2.16956831009491, test_loss: 2.1709804021405494\n",
      "ep: 12, train_acc: 0.19733333333333333, test_acc: 0.1946,train_loss: 2.1505771215924963, test_loss: 2.151890673883363\n",
      "ep: 13, train_acc: 0.20213333333333333, test_acc: 0.1996,train_loss: 2.1318510877261847, test_loss: 2.133001652372328\n",
      "ep: 14, train_acc: 0.2085, test_acc: 0.2036,train_loss: 2.1131844845485688, test_loss: 2.1140808529655057\n",
      "ep: 15, train_acc: 0.21506666666666666, test_acc: 0.2109,train_loss: 2.0943999228727876, test_loss: 2.095034333609927\n",
      "ep: 16, train_acc: 0.22201666666666667, test_acc: 0.2179,train_loss: 2.075450717039573, test_loss: 2.0757871402472823\n",
      "ep: 17, train_acc: 0.2289, test_acc: 0.2231,train_loss: 2.0561753996006438, test_loss: 2.056209734095692\n",
      "ep: 18, train_acc: 0.23615, test_acc: 0.2302,train_loss: 2.0366042000559434, test_loss: 2.036359076646695\n",
      "ep: 19, train_acc: 0.24351666666666666, test_acc: 0.2392,train_loss: 2.0167202385933174, test_loss: 2.0161971297547248\n",
      "ep: 20, train_acc: 0.25028333333333336, test_acc: 0.2502,train_loss: 1.9965714043558065, test_loss: 1.9957663935980368\n",
      "ep: 21, train_acc: 0.2573, test_acc: 0.2565,train_loss: 1.976307691220346, test_loss: 1.9752365655295845\n",
      "ep: 22, train_acc: 0.26503333333333334, test_acc: 0.265,train_loss: 1.956014963658564, test_loss: 1.9546244490280014\n",
      "ep: 23, train_acc: 0.2731, test_acc: 0.2735,train_loss: 1.935815387051601, test_loss: 1.9341632242123783\n",
      "ep: 24, train_acc: 0.2839, test_acc: 0.2842,train_loss: 1.91588275163871, test_loss: 1.91401920513213\n",
      "ep: 25, train_acc: 0.29665, test_acc: 0.2945,train_loss: 1.896340517539252, test_loss: 1.894259197319617\n",
      "ep: 26, train_acc: 0.3082166666666667, test_acc: 0.3062,train_loss: 1.8772720889028656, test_loss: 1.8748465545340034\n",
      "ep: 27, train_acc: 0.31811666666666666, test_acc: 0.3171,train_loss: 1.8587501260553847, test_loss: 1.8559134846299112\n",
      "ep: 28, train_acc: 0.32766666666666666, test_acc: 0.3233,train_loss: 1.8408387872961613, test_loss: 1.8375564974336802\n",
      "ep: 29, train_acc: 0.3359, test_acc: 0.3323,train_loss: 1.8235688729513198, test_loss: 1.8198126303100812\n",
      "ep: 30, train_acc: 0.3426, test_acc: 0.3395,train_loss: 1.8068455415565903, test_loss: 1.802578537008999\n",
      "ep: 31, train_acc: 0.35045, test_acc: 0.3486,train_loss: 1.790689577139712, test_loss: 1.785901907793741\n",
      "ep: 32, train_acc: 0.3581166666666667, test_acc: 0.3547,train_loss: 1.774993844215247, test_loss: 1.769697422659033\n",
      "ep: 33, train_acc: 0.36551666666666666, test_acc: 0.3617,train_loss: 1.7596864180100762, test_loss: 1.7539035275504768\n",
      "ep: 34, train_acc: 0.3718666666666667, test_acc: 0.369,train_loss: 1.7447604228559097, test_loss: 1.738526375438302\n",
      "ep: 35, train_acc: 0.37795, test_acc: 0.3752,train_loss: 1.7301943791498835, test_loss: 1.7235132916987608\n",
      "ep: 36, train_acc: 0.3842833333333333, test_acc: 0.3801,train_loss: 1.7159596596593598, test_loss: 1.7088312337390994\n",
      "ep: 37, train_acc: 0.38976666666666665, test_acc: 0.3853,train_loss: 1.702022269445819, test_loss: 1.6944365825611127\n",
      "ep: 38, train_acc: 0.39616666666666667, test_acc: 0.3909,train_loss: 1.6883714343472997, test_loss: 1.6803437640633387\n",
      "ep: 39, train_acc: 0.40181666666666666, test_acc: 0.3965,train_loss: 1.6750125351478617, test_loss: 1.6666018344271678\n",
      "ep: 40, train_acc: 0.40695, test_acc: 0.402,train_loss: 1.6618921804050746, test_loss: 1.653042721603024\n",
      "ep: 41, train_acc: 0.41218333333333335, test_acc: 0.4077,train_loss: 1.649026132436001, test_loss: 1.639717718820244\n",
      "ep: 42, train_acc: 0.41746666666666665, test_acc: 0.412,train_loss: 1.6364166366131172, test_loss: 1.626675243779495\n",
      "ep: 43, train_acc: 0.4219333333333333, test_acc: 0.4173,train_loss: 1.6240657081767322, test_loss: 1.6138909402563546\n",
      "ep: 44, train_acc: 0.4269, test_acc: 0.4223,train_loss: 1.611924138391783, test_loss: 1.6012755326597417\n",
      "ep: 45, train_acc: 0.4310333333333333, test_acc: 0.4273,train_loss: 1.6000343621106636, test_loss: 1.588942439648674\n",
      "ep: 46, train_acc: 0.43495, test_acc: 0.4322,train_loss: 1.5883620160863356, test_loss: 1.5768155290028745\n",
      "ep: 47, train_acc: 0.43905, test_acc: 0.4362,train_loss: 1.5769195902757625, test_loss: 1.5649274808499647\n",
      "ep: 48, train_acc: 0.44316666666666665, test_acc: 0.4408,train_loss: 1.5657186378609693, test_loss: 1.5532779270217916\n",
      "ep: 49, train_acc: 0.44725, test_acc: 0.4446,train_loss: 1.5547686791688944, test_loss: 1.5419131690082368\n",
      "ep: 50, train_acc: 0.4510166666666667, test_acc: 0.4485,train_loss: 1.5440462354553357, test_loss: 1.5307736118408153\n",
      "ep: 51, train_acc: 0.45471666666666666, test_acc: 0.4523,train_loss: 1.5335423774115924, test_loss: 1.5198493389682937\n",
      "ep: 52, train_acc: 0.45803333333333335, test_acc: 0.4564,train_loss: 1.523272086477201, test_loss: 1.509169281203692\n",
      "ep: 53, train_acc: 0.46165, test_acc: 0.4594,train_loss: 1.5132320745950456, test_loss: 1.4987116895793597\n",
      "ep: 54, train_acc: 0.46468333333333334, test_acc: 0.4629,train_loss: 1.50342328241707, test_loss: 1.4885221778603952\n",
      "ep: 55, train_acc: 0.46773333333333333, test_acc: 0.4661,train_loss: 1.4938207037366271, test_loss: 1.4785270558694055\n",
      "ep: 56, train_acc: 0.4707, test_acc: 0.4721,train_loss: 1.4844437127775687, test_loss: 1.4687882811946407\n",
      "ep: 57, train_acc: 0.47346666666666665, test_acc: 0.4754,train_loss: 1.475284379420223, test_loss: 1.459289215847995\n",
      "ep: 58, train_acc: 0.47695, test_acc: 0.4791,train_loss: 1.4663431145628094, test_loss: 1.450005409157901\n",
      "ep: 59, train_acc: 0.47945, test_acc: 0.4829,train_loss: 1.4576287521878193, test_loss: 1.4409800315435983\n",
      "ep: 60, train_acc: 0.48295, test_acc: 0.4863,train_loss: 1.449123956612701, test_loss: 1.4321850089590393\n",
      "ep: 61, train_acc: 0.48541666666666666, test_acc: 0.4886,train_loss: 1.4408192439384275, test_loss: 1.4235729776810386\n",
      "ep: 62, train_acc: 0.4874, test_acc: 0.4922,train_loss: 1.4327342192507995, test_loss: 1.4152102776874416\n",
      "ep: 63, train_acc: 0.4897166666666667, test_acc: 0.494,train_loss: 1.4248427370976895, test_loss: 1.4070384918389691\n",
      "ep: 64, train_acc: 0.49241666666666667, test_acc: 0.4961,train_loss: 1.4171401032018682, test_loss: 1.399067740751621\n",
      "ep: 65, train_acc: 0.49478333333333335, test_acc: 0.499,train_loss: 1.4096246445686735, test_loss: 1.3912923154523775\n",
      "ep: 66, train_acc: 0.49733333333333335, test_acc: 0.5006,train_loss: 1.4023037681640433, test_loss: 1.3837071736453705\n",
      "ep: 67, train_acc: 0.49961666666666665, test_acc: 0.503,train_loss: 1.3951617294902035, test_loss: 1.376305000105241\n",
      "ep: 68, train_acc: 0.5023333333333333, test_acc: 0.5066,train_loss: 1.3881904514080796, test_loss: 1.3690783987285333\n",
      "ep: 69, train_acc: 0.5047166666666667, test_acc: 0.5097,train_loss: 1.3813875472795931, test_loss: 1.3620466271333294\n",
      "ep: 70, train_acc: 0.5066833333333334, test_acc: 0.5107,train_loss: 1.3747414503627617, test_loss: 1.3551873955682563\n",
      "ep: 71, train_acc: 0.5089833333333333, test_acc: 0.5132,train_loss: 1.3682525134672276, test_loss: 1.3484883245533401\n",
      "ep: 72, train_acc: 0.5109833333333333, test_acc: 0.5162,train_loss: 1.3619196561679967, test_loss: 1.3419613281910723\n",
      "ep: 73, train_acc: 0.5131166666666667, test_acc: 0.5182,train_loss: 1.3557421119953241, test_loss: 1.3355984184277234\n",
      "ep: 74, train_acc: 0.5150166666666667, test_acc: 0.52,train_loss: 1.3497103328576276, test_loss: 1.3293789850161088\n",
      "ep: 75, train_acc: 0.5167333333333334, test_acc: 0.523,train_loss: 1.3438109410830255, test_loss: 1.3233096787272633\n",
      "ep: 76, train_acc: 0.51885, test_acc: 0.5251,train_loss: 1.3380456713216198, test_loss: 1.3173893620412038\n",
      "ep: 77, train_acc: 0.5208666666666667, test_acc: 0.5276,train_loss: 1.3324069800244627, test_loss: 1.3115966348336194\n",
      "ep: 78, train_acc: 0.5228333333333334, test_acc: 0.5293,train_loss: 1.3268920802641215, test_loss: 1.3059289053706924\n",
      "ep: 79, train_acc: 0.5247, test_acc: 0.5311,train_loss: 1.3214908027487795, test_loss: 1.3003654622894354\n",
      "ep: 80, train_acc: 0.5264833333333333, test_acc: 0.5323,train_loss: 1.3162026291175308, test_loss: 1.2949312475210613\n",
      "ep: 81, train_acc: 0.5281666666666667, test_acc: 0.5338,train_loss: 1.3110183345368764, test_loss: 1.2896130490805429\n",
      "ep: 82, train_acc: 0.5299166666666667, test_acc: 0.5358,train_loss: 1.3059437447121682, test_loss: 1.2844232212229982\n",
      "ep: 83, train_acc: 0.5316166666666666, test_acc: 0.5378,train_loss: 1.3009605884009627, test_loss: 1.2793303151478377\n",
      "ep: 84, train_acc: 0.5333, test_acc: 0.5393,train_loss: 1.296069952078581, test_loss: 1.2743291229984615\n",
      "ep: 85, train_acc: 0.5349166666666667, test_acc: 0.5408,train_loss: 1.291270018289163, test_loss: 1.2694275142633882\n",
      "ep: 86, train_acc: 0.53665, test_acc: 0.5427,train_loss: 1.286562662527789, test_loss: 1.2646193220307078\n",
      "ep: 87, train_acc: 0.5375666666666666, test_acc: 0.5438,train_loss: 1.2819484577975353, test_loss: 1.2599147218597908\n",
      "ep: 88, train_acc: 0.5389833333333334, test_acc: 0.5448,train_loss: 1.277413869544476, test_loss: 1.255291824869655\n",
      "ep: 89, train_acc: 0.5407666666666666, test_acc: 0.547,train_loss: 1.2729602263664321, test_loss: 1.2507476508659823\n",
      "ep: 90, train_acc: 0.5424166666666667, test_acc: 0.5486,train_loss: 1.2685797013635733, test_loss: 1.246293966599006\n",
      "ep: 91, train_acc: 0.5438, test_acc: 0.5497,train_loss: 1.2642682512159495, test_loss: 1.24190605631068\n",
      "ep: 92, train_acc: 0.5457, test_acc: 0.5517,train_loss: 1.260028692045754, test_loss: 1.2376101211285948\n",
      "ep: 93, train_acc: 0.5471166666666667, test_acc: 0.5528,train_loss: 1.2558622765375502, test_loss: 1.2333839195412146\n",
      "ep: 94, train_acc: 0.5483, test_acc: 0.5537,train_loss: 1.251767006575256, test_loss: 1.229231625625869\n",
      "ep: 95, train_acc: 0.54975, test_acc: 0.5549,train_loss: 1.24773970312701, test_loss: 1.2251618514943083\n",
      "ep: 96, train_acc: 0.55175, test_acc: 0.5563,train_loss: 1.243768343725029, test_loss: 1.2211436175191392\n",
      "ep: 97, train_acc: 0.5530833333333334, test_acc: 0.5569,train_loss: 1.2398578039792172, test_loss: 1.2171791056859558\n",
      "ep: 98, train_acc: 0.5543, test_acc: 0.5576,train_loss: 1.23600917939762, test_loss: 1.2132930748429118\n",
      "ep: 99, train_acc: 0.5555333333333333, test_acc: 0.559,train_loss: 1.2322190536945854, test_loss: 1.2094601365726538\n",
      "ep: 100, train_acc: 0.5570166666666667, test_acc: 0.5608,train_loss: 1.2284816047308798, test_loss: 1.2056755982453649\n",
      "ep: 101, train_acc: 0.5580666666666667, test_acc: 0.5618,train_loss: 1.2247984364576716, test_loss: 1.2019734371328663\n",
      "ep: 102, train_acc: 0.5592666666666667, test_acc: 0.5629,train_loss: 1.2211678609406695, test_loss: 1.1983212701596242\n",
      "ep: 103, train_acc: 0.5604166666666667, test_acc: 0.5636,train_loss: 1.2175857741258451, test_loss: 1.1947160146549154\n",
      "ep: 104, train_acc: 0.5615833333333333, test_acc: 0.5655,train_loss: 1.2140516108496155, test_loss: 1.1911622099803614\n",
      "ep: 105, train_acc: 0.5633, test_acc: 0.5659,train_loss: 1.210567451919442, test_loss: 1.1876615592440305\n",
      "ep: 106, train_acc: 0.5641833333333334, test_acc: 0.5682,train_loss: 1.2071314914070557, test_loss: 1.184200230790977\n",
      "ep: 107, train_acc: 0.5656, test_acc: 0.569,train_loss: 1.2037395380625178, test_loss: 1.180784192732752\n",
      "ep: 108, train_acc: 0.5666166666666667, test_acc: 0.5698,train_loss: 1.2003851103484706, test_loss: 1.177412404641935\n",
      "ep: 109, train_acc: 0.56765, test_acc: 0.5717,train_loss: 1.1970750873641904, test_loss: 1.1740950747908725\n",
      "ep: 110, train_acc: 0.5688666666666666, test_acc: 0.5729,train_loss: 1.1938049991061208, test_loss: 1.1708121377645078\n",
      "ep: 111, train_acc: 0.56985, test_acc: 0.5745,train_loss: 1.1905744215094602, test_loss: 1.1675732456265657\n",
      "ep: 112, train_acc: 0.57105, test_acc: 0.5756,train_loss: 1.1873848895850485, test_loss: 1.1643752975552246\n",
      "ep: 113, train_acc: 0.5725166666666667, test_acc: 0.5771,train_loss: 1.1842373918516023, test_loss: 1.161215468939446\n",
      "ep: 114, train_acc: 0.5737166666666667, test_acc: 0.5782,train_loss: 1.1811281608457043, test_loss: 1.1580939169594022\n",
      "ep: 115, train_acc: 0.5749833333333333, test_acc: 0.579,train_loss: 1.1780585543786075, test_loss: 1.155006323156932\n",
      "ep: 116, train_acc: 0.57605, test_acc: 0.5801,train_loss: 1.1750226947791667, test_loss: 1.1519719316528396\n",
      "ep: 117, train_acc: 0.57695, test_acc: 0.582,train_loss: 1.1720209931843077, test_loss: 1.1489726594776213\n",
      "ep: 118, train_acc: 0.5784, test_acc: 0.5832,train_loss: 1.1690563523393345, test_loss: 1.1460031022527222\n",
      "ep: 119, train_acc: 0.5795833333333333, test_acc: 0.5847,train_loss: 1.1661272313257836, test_loss: 1.1430729621741642\n",
      "ep: 120, train_acc: 0.5807666666666667, test_acc: 0.587,train_loss: 1.163231845333951, test_loss: 1.140171459458507\n",
      "ep: 121, train_acc: 0.582, test_acc: 0.5879,train_loss: 1.160365961572541, test_loss: 1.1372904405338995\n",
      "ep: 122, train_acc: 0.5828166666666666, test_acc: 0.589,train_loss: 1.1575308153562722, test_loss: 1.1344396598606354\n",
      "ep: 123, train_acc: 0.58405, test_acc: 0.5905,train_loss: 1.1547273783761838, test_loss: 1.1316186112267128\n",
      "ep: 124, train_acc: 0.5848, test_acc: 0.5928,train_loss: 1.1519530452111784, test_loss: 1.1288302393753127\n",
      "ep: 125, train_acc: 0.5859, test_acc: 0.5936,train_loss: 1.149206771680768, test_loss: 1.1260782383904926\n",
      "ep: 126, train_acc: 0.5870333333333333, test_acc: 0.5955,train_loss: 1.1464852268820098, test_loss: 1.1233627915234445\n",
      "ep: 127, train_acc: 0.5880833333333333, test_acc: 0.5969,train_loss: 1.143786261483926, test_loss: 1.1206713082335615\n",
      "ep: 128, train_acc: 0.58905, test_acc: 0.5973,train_loss: 1.141114531739207, test_loss: 1.1180051187899211\n",
      "ep: 129, train_acc: 0.58995, test_acc: 0.5983,train_loss: 1.138471898037072, test_loss: 1.1153636711989448\n",
      "ep: 130, train_acc: 0.5908, test_acc: 0.5992,train_loss: 1.135856388955086, test_loss: 1.1127402778503908\n",
      "ep: 131, train_acc: 0.59155, test_acc: 0.5994,train_loss: 1.133262813432293, test_loss: 1.1101267403099337\n",
      "ep: 132, train_acc: 0.5924833333333334, test_acc: 0.6005,train_loss: 1.1306922575756517, test_loss: 1.1075351156659976\n",
      "ep: 133, train_acc: 0.5934166666666667, test_acc: 0.6017,train_loss: 1.1281484948739273, test_loss: 1.10497183556145\n",
      "ep: 134, train_acc: 0.5944333333333334, test_acc: 0.6026,train_loss: 1.125626689715171, test_loss: 1.1024313588650374\n",
      "ep: 135, train_acc: 0.5951833333333333, test_acc: 0.6035,train_loss: 1.1231237549019777, test_loss: 1.0999112765647767\n",
      "ep: 136, train_acc: 0.5962166666666666, test_acc: 0.6048,train_loss: 1.1206438842893256, test_loss: 1.0974223702814276\n",
      "ep: 137, train_acc: 0.5971, test_acc: 0.6056,train_loss: 1.1181829758820638, test_loss: 1.0949444623457365\n",
      "ep: 138, train_acc: 0.5978, test_acc: 0.6063,train_loss: 1.115741713470279, test_loss: 1.0924974218632764\n",
      "ep: 139, train_acc: 0.5987333333333333, test_acc: 0.6075,train_loss: 1.1133171476825465, test_loss: 1.090066770852659\n",
      "ep: 140, train_acc: 0.5996833333333333, test_acc: 0.6087,train_loss: 1.1109151747408375, test_loss: 1.087653357343437\n",
      "ep: 141, train_acc: 0.6005833333333334, test_acc: 0.6094,train_loss: 1.1085378134186943, test_loss: 1.085258838651431\n",
      "ep: 142, train_acc: 0.6013666666666667, test_acc: 0.6105,train_loss: 1.106180118711571, test_loss: 1.082877804847743\n",
      "ep: 143, train_acc: 0.6022833333333333, test_acc: 0.6115,train_loss: 1.1038399488960338, test_loss: 1.080514179206798\n",
      "ep: 144, train_acc: 0.6029333333333333, test_acc: 0.6125,train_loss: 1.101522598285958, test_loss: 1.0781750003779669\n",
      "ep: 145, train_acc: 0.6040833333333333, test_acc: 0.6135,train_loss: 1.0992257592181547, test_loss: 1.075867499143262\n",
      "ep: 146, train_acc: 0.6047333333333333, test_acc: 0.6133,train_loss: 1.096947417462182, test_loss: 1.0735608837988282\n",
      "ep: 147, train_acc: 0.60555, test_acc: 0.6142,train_loss: 1.0946869198202533, test_loss: 1.0712701305998114\n",
      "ep: 148, train_acc: 0.6062666666666666, test_acc: 0.6149,train_loss: 1.0924464116630908, test_loss: 1.069003082277079\n",
      "ep: 149, train_acc: 0.6074, test_acc: 0.6152,train_loss: 1.0902238965779982, test_loss: 1.0667536957557127\n",
      "ep: 150, train_acc: 0.6081666666666666, test_acc: 0.6156,train_loss: 1.0880182640786695, test_loss: 1.0645133598568097\n",
      "ep: 151, train_acc: 0.60935, test_acc: 0.6161,train_loss: 1.0858282677315207, test_loss: 1.062299111891375\n",
      "ep: 152, train_acc: 0.6103, test_acc: 0.6172,train_loss: 1.0836539113977046, test_loss: 1.0600817287533881\n",
      "ep: 153, train_acc: 0.6109833333333333, test_acc: 0.6187,train_loss: 1.0814958075334502, test_loss: 1.057896751777918\n",
      "ep: 154, train_acc: 0.61165, test_acc: 0.6189,train_loss: 1.079351310933957, test_loss: 1.0557153458480917\n",
      "ep: 155, train_acc: 0.6121166666666666, test_acc: 0.6196,train_loss: 1.0772211069046995, test_loss: 1.0535579598478753\n",
      "ep: 156, train_acc: 0.6127, test_acc: 0.6206,train_loss: 1.075106355989823, test_loss: 1.0514205691922363\n",
      "ep: 157, train_acc: 0.6134, test_acc: 0.6223,train_loss: 1.0730099622563352, test_loss: 1.049307154292548\n",
      "ep: 158, train_acc: 0.6142166666666666, test_acc: 0.6233,train_loss: 1.0709294558271272, test_loss: 1.0471935098703462\n",
      "ep: 159, train_acc: 0.6149166666666667, test_acc: 0.624,train_loss: 1.0688654717614217, test_loss: 1.0450972697772225\n",
      "ep: 160, train_acc: 0.6154166666666666, test_acc: 0.6249,train_loss: 1.0668179249381724, test_loss: 1.0430151195330188\n",
      "ep: 161, train_acc: 0.6161833333333333, test_acc: 0.6255,train_loss: 1.0647904589889838, test_loss: 1.040951127669886\n",
      "ep: 162, train_acc: 0.61715, test_acc: 0.6264,train_loss: 1.0627720051259992, test_loss: 1.038900841805165\n",
      "ep: 163, train_acc: 0.6178666666666667, test_acc: 0.627,train_loss: 1.0607680060533327, test_loss: 1.0368671007508556\n",
      "ep: 164, train_acc: 0.6187333333333334, test_acc: 0.6272,train_loss: 1.0587796078960527, test_loss: 1.034842520385476\n",
      "ep: 165, train_acc: 0.6194666666666667, test_acc: 0.6282,train_loss: 1.056799125239201, test_loss: 1.032816722926238\n",
      "ep: 166, train_acc: 0.6202833333333333, test_acc: 0.6293,train_loss: 1.0548272822561726, test_loss: 1.0308126960937394\n",
      "ep: 167, train_acc: 0.6212333333333333, test_acc: 0.6302,train_loss: 1.0528691788559685, test_loss: 1.0288275967575902\n",
      "ep: 168, train_acc: 0.62215, test_acc: 0.6309,train_loss: 1.0509244272619702, test_loss: 1.0268412076678994\n",
      "ep: 169, train_acc: 0.6229333333333333, test_acc: 0.6318,train_loss: 1.0489896369770009, test_loss: 1.0248756764290639\n",
      "ep: 170, train_acc: 0.6234166666666666, test_acc: 0.6327,train_loss: 1.047062904620585, test_loss: 1.0229216772683796\n",
      "ep: 171, train_acc: 0.6241833333333333, test_acc: 0.634,train_loss: 1.0451492823993078, test_loss: 1.0209781124341288\n",
      "ep: 172, train_acc: 0.6250666666666667, test_acc: 0.6348,train_loss: 1.0432470452915292, test_loss: 1.019042846473243\n",
      "ep: 173, train_acc: 0.6256666666666667, test_acc: 0.6354,train_loss: 1.0413542453152222, test_loss: 1.0171218722674862\n",
      "ep: 174, train_acc: 0.62665, test_acc: 0.6357,train_loss: 1.039474079645705, test_loss: 1.0152086802732632\n",
      "ep: 175, train_acc: 0.6269833333333333, test_acc: 0.6364,train_loss: 1.0376058663905248, test_loss: 1.0133083095958082\n",
      "ep: 176, train_acc: 0.62765, test_acc: 0.6377,train_loss: 1.035749362271547, test_loss: 1.011432316544207\n",
      "ep: 177, train_acc: 0.6284333333333333, test_acc: 0.6378,train_loss: 1.033905153854151, test_loss: 1.0095594803294108\n",
      "ep: 178, train_acc: 0.6290333333333333, test_acc: 0.6383,train_loss: 1.0320735374003784, test_loss: 1.0076994152009755\n",
      "ep: 179, train_acc: 0.62975, test_acc: 0.6391,train_loss: 1.0302504356670807, test_loss: 1.0058460619285756\n",
      "ep: 180, train_acc: 0.63045, test_acc: 0.64,train_loss: 1.0284382562618177, test_loss: 1.004005626911566\n",
      "ep: 181, train_acc: 0.6313166666666666, test_acc: 0.6405,train_loss: 1.0266384255329253, test_loss: 1.0021642176684191\n",
      "ep: 182, train_acc: 0.63195, test_acc: 0.6413,train_loss: 1.024851807050531, test_loss: 1.0003400606943462\n",
      "ep: 183, train_acc: 0.6327, test_acc: 0.642,train_loss: 1.0230729995736427, test_loss: 0.9985322522382628\n",
      "ep: 184, train_acc: 0.6332, test_acc: 0.6429,train_loss: 1.02130759107514, test_loss: 0.9967386709067778\n",
      "ep: 185, train_acc: 0.6338, test_acc: 0.6436,train_loss: 1.0195498799166325, test_loss: 0.9949582429462646\n",
      "ep: 186, train_acc: 0.6343166666666666, test_acc: 0.6445,train_loss: 1.0178053083547298, test_loss: 0.9931809127876781\n",
      "ep: 187, train_acc: 0.6349833333333333, test_acc: 0.6455,train_loss: 1.016070570264195, test_loss: 0.9914099942537591\n",
      "ep: 188, train_acc: 0.6355166666666666, test_acc: 0.6465,train_loss: 1.0143481169330921, test_loss: 0.9896557805622386\n",
      "ep: 189, train_acc: 0.63635, test_acc: 0.6472,train_loss: 1.0126389246111056, test_loss: 0.9879193116856133\n",
      "ep: 190, train_acc: 0.6366833333333334, test_acc: 0.6485,train_loss: 1.0109357433354789, test_loss: 0.9861822109352668\n",
      "ep: 191, train_acc: 0.6371833333333333, test_acc: 0.6497,train_loss: 1.0092430727953257, test_loss: 0.9844594611477218\n",
      "ep: 192, train_acc: 0.6376666666666667, test_acc: 0.6501,train_loss: 1.0075654402049088, test_loss: 0.982741991708929\n",
      "ep: 193, train_acc: 0.6382, test_acc: 0.6506,train_loss: 1.0058942514854172, test_loss: 0.9810407231956959\n",
      "ep: 194, train_acc: 0.6388166666666667, test_acc: 0.6507,train_loss: 1.0042310046314609, test_loss: 0.9793600980366612\n",
      "ep: 195, train_acc: 0.6396333333333334, test_acc: 0.6514,train_loss: 1.0025827048360725, test_loss: 0.9776700870979553\n",
      "ep: 196, train_acc: 0.64035, test_acc: 0.6517,train_loss: 1.0009414129707275, test_loss: 0.9760045195583947\n",
      "ep: 197, train_acc: 0.6411333333333333, test_acc: 0.6523,train_loss: 0.9993080824822601, test_loss: 0.974353514251665\n",
      "ep: 198, train_acc: 0.6416333333333334, test_acc: 0.6535,train_loss: 0.9976815569773413, test_loss: 0.9727017006280665\n",
      "ep: 199, train_acc: 0.6422833333333333, test_acc: 0.6541,train_loss: 0.9960627525594816, test_loss: 0.9710510314734869\n",
      "ep: 200, train_acc: 0.6429, test_acc: 0.6543,train_loss: 0.9944482120661015, test_loss: 0.9694200753026025\n",
      "ep: 201, train_acc: 0.6435, test_acc: 0.6549,train_loss: 0.9928441254619139, test_loss: 0.9677994714851462\n",
      "ep: 202, train_acc: 0.6438833333333334, test_acc: 0.6562,train_loss: 0.9912478373717054, test_loss: 0.9661886099918918\n",
      "ep: 203, train_acc: 0.6444833333333333, test_acc: 0.6569,train_loss: 0.9896629165821252, test_loss: 0.964590259344496\n",
      "ep: 204, train_acc: 0.6450833333333333, test_acc: 0.6581,train_loss: 0.988081479111051, test_loss: 0.9629989201599688\n",
      "ep: 205, train_acc: 0.6457, test_acc: 0.6586,train_loss: 0.9865107743536218, test_loss: 0.9614215403847426\n",
      "ep: 206, train_acc: 0.64635, test_acc: 0.6595,train_loss: 0.9849488259692242, test_loss: 0.959845965917339\n",
      "ep: 207, train_acc: 0.6468166666666667, test_acc: 0.6598,train_loss: 0.9833912006867497, test_loss: 0.9582820365156048\n",
      "ep: 208, train_acc: 0.6475333333333333, test_acc: 0.6602,train_loss: 0.9818402636985494, test_loss: 0.9567193921468262\n",
      "ep: 209, train_acc: 0.648, test_acc: 0.6609,train_loss: 0.9802983892990741, test_loss: 0.9551689664938374\n",
      "ep: 210, train_acc: 0.6486833333333333, test_acc: 0.6609,train_loss: 0.9787672303990788, test_loss: 0.9536087874101464\n",
      "ep: 211, train_acc: 0.6493666666666666, test_acc: 0.6616,train_loss: 0.9772401113219819, test_loss: 0.9520663706707179\n",
      "ep: 212, train_acc: 0.64985, test_acc: 0.6624,train_loss: 0.9757222951898936, test_loss: 0.9505271071246089\n",
      "ep: 213, train_acc: 0.6503666666666666, test_acc: 0.6622,train_loss: 0.9742088679959198, test_loss: 0.9489941315765965\n",
      "ep: 214, train_acc: 0.6509333333333334, test_acc: 0.6626,train_loss: 0.9727060296289713, test_loss: 0.9474581419977378\n",
      "ep: 215, train_acc: 0.6516166666666666, test_acc: 0.6636,train_loss: 0.9712049296273444, test_loss: 0.9459338799323803\n",
      "ep: 216, train_acc: 0.6520333333333334, test_acc: 0.6639,train_loss: 0.969706979527812, test_loss: 0.9444164407074269\n",
      "ep: 217, train_acc: 0.6526333333333333, test_acc: 0.6636,train_loss: 0.9682153422723767, test_loss: 0.942910360407248\n",
      "ep: 218, train_acc: 0.65325, test_acc: 0.6645,train_loss: 0.9667344570192661, test_loss: 0.9414159842380823\n",
      "ep: 219, train_acc: 0.6540666666666667, test_acc: 0.6652,train_loss: 0.9652560245494554, test_loss: 0.9399239954371286\n",
      "ep: 220, train_acc: 0.6546666666666666, test_acc: 0.6656,train_loss: 0.9637842646934248, test_loss: 0.9384367275765444\n",
      "ep: 221, train_acc: 0.6553666666666667, test_acc: 0.6662,train_loss: 0.9623193319044515, test_loss: 0.9369520657426051\n",
      "ep: 222, train_acc: 0.6558666666666667, test_acc: 0.6663,train_loss: 0.960860513728857, test_loss: 0.9354677885848958\n",
      "ep: 223, train_acc: 0.6564833333333333, test_acc: 0.667,train_loss: 0.9594085829721138, test_loss: 0.933995118001764\n",
      "ep: 224, train_acc: 0.65715, test_acc: 0.6676,train_loss: 0.9579593076337148, test_loss: 0.9325356363774628\n",
      "ep: 225, train_acc: 0.6578333333333334, test_acc: 0.6687,train_loss: 0.9565140822912036, test_loss: 0.9310731202860044\n",
      "ep: 226, train_acc: 0.65845, test_acc: 0.6692,train_loss: 0.9550735211324775, test_loss: 0.9296200886184331\n",
      "ep: 227, train_acc: 0.6592166666666667, test_acc: 0.6706,train_loss: 0.9536389159097692, test_loss: 0.9281663572943162\n",
      "ep: 228, train_acc: 0.6598666666666667, test_acc: 0.6714,train_loss: 0.9522088360646935, test_loss: 0.9267154858783673\n",
      "ep: 229, train_acc: 0.6606166666666666, test_acc: 0.6713,train_loss: 0.9507845131664561, test_loss: 0.9252779637019622\n",
      "ep: 230, train_acc: 0.6614, test_acc: 0.6721,train_loss: 0.9493667564432977, test_loss: 0.9238222232830713\n",
      "ep: 231, train_acc: 0.6619333333333334, test_acc: 0.6725,train_loss: 0.947951151294097, test_loss: 0.9223811803772703\n",
      "ep: 232, train_acc: 0.6625666666666666, test_acc: 0.6726,train_loss: 0.9465392220104831, test_loss: 0.9209466528339914\n",
      "ep: 233, train_acc: 0.6633166666666667, test_acc: 0.6734,train_loss: 0.9451340803979335, test_loss: 0.9195197242318806\n",
      "ep: 234, train_acc: 0.6638333333333334, test_acc: 0.674,train_loss: 0.9437344398661859, test_loss: 0.9180959135954625\n",
      "ep: 235, train_acc: 0.6645333333333333, test_acc: 0.6744,train_loss: 0.9423398234534348, test_loss: 0.9166723865309349\n",
      "ep: 236, train_acc: 0.6653166666666667, test_acc: 0.6749,train_loss: 0.9409527172518983, test_loss: 0.915267537563218\n",
      "ep: 237, train_acc: 0.66595, test_acc: 0.6751,train_loss: 0.9395725091430843, test_loss: 0.9138560040288869\n",
      "ep: 238, train_acc: 0.6663833333333333, test_acc: 0.6751,train_loss: 0.9381956303971839, test_loss: 0.9124405388539173\n",
      "ep: 239, train_acc: 0.66705, test_acc: 0.676,train_loss: 0.936821038263528, test_loss: 0.9110410160981263\n",
      "ep: 240, train_acc: 0.6675, test_acc: 0.6766,train_loss: 0.9354483987343359, test_loss: 0.9096509372059769\n",
      "ep: 241, train_acc: 0.6681666666666667, test_acc: 0.6777,train_loss: 0.9340833492081144, test_loss: 0.9082580840266866\n",
      "ep: 242, train_acc: 0.66865, test_acc: 0.6783,train_loss: 0.9327229332842278, test_loss: 0.906875361782318\n",
      "ep: 243, train_acc: 0.6691, test_acc: 0.679,train_loss: 0.9313650917154117, test_loss: 0.9055001285472762\n",
      "ep: 244, train_acc: 0.6699833333333334, test_acc: 0.6797,train_loss: 0.9300074601006847, test_loss: 0.9041308361834899\n",
      "ep: 245, train_acc: 0.6704833333333333, test_acc: 0.6807,train_loss: 0.9286560324854015, test_loss: 0.9027606476691858\n",
      "ep: 246, train_acc: 0.67115, test_acc: 0.6812,train_loss: 0.9273108810817352, test_loss: 0.9013908167351101\n",
      "ep: 247, train_acc: 0.6716166666666666, test_acc: 0.6816,train_loss: 0.9259710485799795, test_loss: 0.9000211561722921\n",
      "ep: 248, train_acc: 0.67215, test_acc: 0.6821,train_loss: 0.9246391887537192, test_loss: 0.8986565686385296\n",
      "ep: 249, train_acc: 0.6724333333333333, test_acc: 0.6824,train_loss: 0.9233100983910165, test_loss: 0.8972997913333595\n",
      "ep: 250, train_acc: 0.6732, test_acc: 0.6832,train_loss: 0.9219874191430144, test_loss: 0.8959434134663216\n",
      "ep: 251, train_acc: 0.6738666666666666, test_acc: 0.683,train_loss: 0.9206676747229259, test_loss: 0.8945908232177613\n",
      "ep: 252, train_acc: 0.6744666666666667, test_acc: 0.6838,train_loss: 0.919352776296038, test_loss: 0.893235802495193\n",
      "ep: 253, train_acc: 0.675, test_acc: 0.6843,train_loss: 0.9180359927025669, test_loss: 0.8919000795887918\n",
      "ep: 254, train_acc: 0.6755833333333333, test_acc: 0.685,train_loss: 0.9167247912686635, test_loss: 0.8905620668955271\n",
      "ep: 255, train_acc: 0.676, test_acc: 0.685,train_loss: 0.9154155476322481, test_loss: 0.8892267867556537\n",
      "ep: 256, train_acc: 0.6763666666666667, test_acc: 0.6857,train_loss: 0.9141150513262535, test_loss: 0.8878925126231505\n",
      "ep: 257, train_acc: 0.6769666666666667, test_acc: 0.6863,train_loss: 0.9128171121849414, test_loss: 0.886565903291828\n",
      "ep: 258, train_acc: 0.6775, test_acc: 0.687,train_loss: 0.9115241656252417, test_loss: 0.8852497605433749\n",
      "ep: 259, train_acc: 0.6780166666666667, test_acc: 0.6873,train_loss: 0.9102361583628468, test_loss: 0.8839264385517385\n",
      "ep: 260, train_acc: 0.6785666666666667, test_acc: 0.6876,train_loss: 0.9089509594319094, test_loss: 0.8826079781598448\n",
      "ep: 261, train_acc: 0.6790833333333334, test_acc: 0.6877,train_loss: 0.9076660469808536, test_loss: 0.8813037261449154\n",
      "ep: 262, train_acc: 0.6796833333333333, test_acc: 0.6884,train_loss: 0.9063879311194067, test_loss: 0.879992107160751\n",
      "ep: 263, train_acc: 0.6801, test_acc: 0.6888,train_loss: 0.9051120532695218, test_loss: 0.8786870967472586\n",
      "ep: 264, train_acc: 0.6807166666666666, test_acc: 0.689,train_loss: 0.9038424098572513, test_loss: 0.8773884420203003\n",
      "ep: 265, train_acc: 0.6812333333333334, test_acc: 0.6894,train_loss: 0.9025786144413391, test_loss: 0.8760873902349031\n",
      "ep: 266, train_acc: 0.6818333333333333, test_acc: 0.6902,train_loss: 0.9013174705181294, test_loss: 0.8747984224098436\n",
      "ep: 267, train_acc: 0.6824333333333333, test_acc: 0.6906,train_loss: 0.900058966987146, test_loss: 0.8735047135616527\n",
      "ep: 268, train_acc: 0.6830833333333334, test_acc: 0.6914,train_loss: 0.8988050136924863, test_loss: 0.8722150353810508\n",
      "ep: 269, train_acc: 0.68365, test_acc: 0.692,train_loss: 0.897552254802779, test_loss: 0.8709233466691098\n",
      "ep: 270, train_acc: 0.6844833333333333, test_acc: 0.6923,train_loss: 0.8963026065779103, test_loss: 0.869633791195254\n",
      "ep: 271, train_acc: 0.685, test_acc: 0.6924,train_loss: 0.8950559538770896, test_loss: 0.8683533234290977\n",
      "ep: 272, train_acc: 0.6854833333333333, test_acc: 0.6932,train_loss: 0.8938126250403976, test_loss: 0.8670774421181066\n",
      "ep: 273, train_acc: 0.6861166666666667, test_acc: 0.6944,train_loss: 0.8925720521789499, test_loss: 0.8658031917701761\n",
      "ep: 274, train_acc: 0.6866833333333333, test_acc: 0.6953,train_loss: 0.8913369488067782, test_loss: 0.8645276976782706\n",
      "ep: 275, train_acc: 0.68725, test_acc: 0.6957,train_loss: 0.8901055952791141, test_loss: 0.8632618467411092\n",
      "ep: 276, train_acc: 0.6877333333333333, test_acc: 0.696,train_loss: 0.888876414935193, test_loss: 0.8619930551509755\n",
      "ep: 277, train_acc: 0.6882, test_acc: 0.6967,train_loss: 0.8876478901270016, test_loss: 0.8607350087787076\n",
      "ep: 278, train_acc: 0.6887333333333333, test_acc: 0.6972,train_loss: 0.8864213797326335, test_loss: 0.8594717941990931\n",
      "ep: 279, train_acc: 0.6892666666666667, test_acc: 0.6975,train_loss: 0.885196524784269, test_loss: 0.8582133689153901\n",
      "ep: 280, train_acc: 0.6896833333333333, test_acc: 0.6979,train_loss: 0.8839735075691093, test_loss: 0.8569641143746483\n",
      "ep: 281, train_acc: 0.69045, test_acc: 0.6984,train_loss: 0.8827563790717201, test_loss: 0.8557070556845607\n",
      "ep: 282, train_acc: 0.6909333333333333, test_acc: 0.6993,train_loss: 0.8815371525636261, test_loss: 0.8544581238470262\n",
      "ep: 283, train_acc: 0.69145, test_acc: 0.7,train_loss: 0.8803193302880519, test_loss: 0.8532048062987151\n",
      "ep: 284, train_acc: 0.69195, test_acc: 0.7009,train_loss: 0.8791042887144715, test_loss: 0.8519561246864882\n",
      "ep: 285, train_acc: 0.6923166666666667, test_acc: 0.702,train_loss: 0.8778934582237127, test_loss: 0.8507177852139798\n",
      "ep: 286, train_acc: 0.6928, test_acc: 0.7027,train_loss: 0.8766845224369723, test_loss: 0.8494916837672718\n",
      "ep: 287, train_acc: 0.6932833333333334, test_acc: 0.7033,train_loss: 0.8754746668454901, test_loss: 0.8482539878095111\n",
      "ep: 288, train_acc: 0.6938333333333333, test_acc: 0.7035,train_loss: 0.8742668178030047, test_loss: 0.8470167829903749\n",
      "ep: 289, train_acc: 0.6943833333333334, test_acc: 0.7036,train_loss: 0.8730584877642268, test_loss: 0.8457875007156804\n",
      "ep: 290, train_acc: 0.6947666666666666, test_acc: 0.7038,train_loss: 0.8718507227227786, test_loss: 0.8445543824831253\n",
      "ep: 291, train_acc: 0.6954, test_acc: 0.7041,train_loss: 0.8706477481958358, test_loss: 0.8433184930286758\n",
      "ep: 292, train_acc: 0.6959, test_acc: 0.7047,train_loss: 0.8694430973997855, test_loss: 0.8420958505876057\n",
      "ep: 293, train_acc: 0.6965333333333333, test_acc: 0.7049,train_loss: 0.8682385784251068, test_loss: 0.8408743710747014\n",
      "ep: 294, train_acc: 0.6970833333333334, test_acc: 0.7055,train_loss: 0.8670373501191411, test_loss: 0.8396562703905943\n",
      "ep: 295, train_acc: 0.69755, test_acc: 0.706,train_loss: 0.8658358563156354, test_loss: 0.8384374554743624\n",
      "ep: 296, train_acc: 0.6979666666666666, test_acc: 0.7067,train_loss: 0.8646371232387653, test_loss: 0.8372152866942917\n",
      "ep: 297, train_acc: 0.6985833333333333, test_acc: 0.7072,train_loss: 0.8634364843719524, test_loss: 0.8359952907575569\n",
      "ep: 298, train_acc: 0.6992333333333334, test_acc: 0.708,train_loss: 0.8622362412030969, test_loss: 0.8347784420870116\n",
      "ep: 299, train_acc: 0.69955, test_acc: 0.7086,train_loss: 0.8610348034020366, test_loss: 0.8335623191940951\n",
      "ep: 300, train_acc: 0.6997833333333333, test_acc: 0.7091,train_loss: 0.8598380062219787, test_loss: 0.8323490182671647\n",
      "ep: 301, train_acc: 0.7004833333333333, test_acc: 0.7096,train_loss: 0.8586379440005626, test_loss: 0.8311300359867985\n",
      "ep: 302, train_acc: 0.7006833333333333, test_acc: 0.7106,train_loss: 0.8574361732475341, test_loss: 0.8299070825555762\n",
      "ep: 303, train_acc: 0.7012833333333334, test_acc: 0.7112,train_loss: 0.8562330914728924, test_loss: 0.8286890948146635\n",
      "ep: 304, train_acc: 0.7016333333333333, test_acc: 0.7121,train_loss: 0.8550262068671468, test_loss: 0.8274758430973569\n",
      "ep: 305, train_acc: 0.7022833333333334, test_acc: 0.7129,train_loss: 0.8538173038583653, test_loss: 0.8262570646923226\n",
      "ep: 306, train_acc: 0.70255, test_acc: 0.713,train_loss: 0.8526049612059234, test_loss: 0.8250406041134843\n",
      "ep: 307, train_acc: 0.7031833333333334, test_acc: 0.7134,train_loss: 0.8513931154919688, test_loss: 0.8238173780521545\n",
      "ep: 308, train_acc: 0.7037666666666667, test_acc: 0.7138,train_loss: 0.8501839566774959, test_loss: 0.8226013756216042\n",
      "ep: 309, train_acc: 0.7042666666666667, test_acc: 0.714,train_loss: 0.8489729652234034, test_loss: 0.8213852223899567\n",
      "ep: 310, train_acc: 0.7047166666666667, test_acc: 0.7145,train_loss: 0.8477615688717074, test_loss: 0.8201549325465416\n",
      "ep: 311, train_acc: 0.7051666666666667, test_acc: 0.7151,train_loss: 0.8465495231297412, test_loss: 0.8189385291834442\n",
      "ep: 312, train_acc: 0.7056666666666667, test_acc: 0.7156,train_loss: 0.8453345970870442, test_loss: 0.8177112534589375\n",
      "ep: 313, train_acc: 0.7062, test_acc: 0.7165,train_loss: 0.8441191284300235, test_loss: 0.8164885207309424\n",
      "ep: 314, train_acc: 0.7068166666666666, test_acc: 0.7169,train_loss: 0.8429077175599257, test_loss: 0.8152723566766367\n",
      "ep: 315, train_acc: 0.70755, test_acc: 0.717,train_loss: 0.8416940970759568, test_loss: 0.8140539706703847\n",
      "ep: 316, train_acc: 0.7079833333333333, test_acc: 0.7171,train_loss: 0.840481943916341, test_loss: 0.8128417248179164\n",
      "ep: 317, train_acc: 0.70845, test_acc: 0.7176,train_loss: 0.8392708725085116, test_loss: 0.8116316951335337\n",
      "ep: 318, train_acc: 0.7090166666666666, test_acc: 0.7182,train_loss: 0.8380549989942055, test_loss: 0.8104210852306655\n",
      "ep: 319, train_acc: 0.7094333333333334, test_acc: 0.7184,train_loss: 0.8368413086104287, test_loss: 0.809212876504937\n",
      "ep: 320, train_acc: 0.71, test_acc: 0.7193,train_loss: 0.8356256545773872, test_loss: 0.8080122940778947\n",
      "ep: 321, train_acc: 0.71065, test_acc: 0.7201,train_loss: 0.8344092196743944, test_loss: 0.8068082954602264\n",
      "ep: 322, train_acc: 0.7115333333333334, test_acc: 0.7211,train_loss: 0.8331852274792308, test_loss: 0.805603673847503\n",
      "ep: 323, train_acc: 0.7122, test_acc: 0.7212,train_loss: 0.8319639483668486, test_loss: 0.8043949904713186\n",
      "ep: 324, train_acc: 0.7129333333333333, test_acc: 0.7216,train_loss: 0.8307505182390488, test_loss: 0.8031831733891126\n",
      "ep: 325, train_acc: 0.7133666666666667, test_acc: 0.7222,train_loss: 0.8295311113529426, test_loss: 0.8019673785554744\n",
      "ep: 326, train_acc: 0.71405, test_acc: 0.7227,train_loss: 0.8283086926650928, test_loss: 0.8007519887749233\n",
      "ep: 327, train_acc: 0.7144833333333334, test_acc: 0.7233,train_loss: 0.8270860427695789, test_loss: 0.7995373649034736\n",
      "ep: 328, train_acc: 0.71485, test_acc: 0.7237,train_loss: 0.8258643801293235, test_loss: 0.7983233768171033\n",
      "ep: 329, train_acc: 0.7153, test_acc: 0.7241,train_loss: 0.8246422377853523, test_loss: 0.7971120391351542\n",
      "ep: 330, train_acc: 0.7159166666666666, test_acc: 0.7248,train_loss: 0.8234250035959519, test_loss: 0.7958984062866384\n",
      "ep: 331, train_acc: 0.7165, test_acc: 0.7251,train_loss: 0.8222102871967116, test_loss: 0.7946902433083713\n",
      "ep: 332, train_acc: 0.71715, test_acc: 0.7262,train_loss: 0.8209959913094734, test_loss: 0.7934791502923882\n",
      "ep: 333, train_acc: 0.7176833333333333, test_acc: 0.7265,train_loss: 0.8197825961309699, test_loss: 0.7922767792985191\n",
      "ep: 334, train_acc: 0.71825, test_acc: 0.7272,train_loss: 0.8185704276500915, test_loss: 0.7910825483819992\n",
      "ep: 335, train_acc: 0.7186833333333333, test_acc: 0.7273,train_loss: 0.8173608687733276, test_loss: 0.7898983836776969\n",
      "ep: 336, train_acc: 0.7191666666666666, test_acc: 0.7279,train_loss: 0.8161506548778943, test_loss: 0.7887118229707126\n",
      "ep: 337, train_acc: 0.7200666666666666, test_acc: 0.7278,train_loss: 0.8149462911944251, test_loss: 0.7875212887819211\n",
      "ep: 338, train_acc: 0.72055, test_acc: 0.729,train_loss: 0.8137415486893996, test_loss: 0.7863354182910611\n",
      "ep: 339, train_acc: 0.7211666666666666, test_acc: 0.7291,train_loss: 0.8125448872192292, test_loss: 0.7851561370440114\n",
      "ep: 340, train_acc: 0.72165, test_acc: 0.7292,train_loss: 0.8113511804699545, test_loss: 0.7839740326026758\n",
      "ep: 341, train_acc: 0.72195, test_acc: 0.7299,train_loss: 0.8101631074492905, test_loss: 0.7827932338830706\n",
      "ep: 342, train_acc: 0.7225833333333334, test_acc: 0.7307,train_loss: 0.8089808029804847, test_loss: 0.7816156776074233\n",
      "ep: 343, train_acc: 0.7231666666666666, test_acc: 0.7313,train_loss: 0.8078024775721597, test_loss: 0.7804513026053174\n",
      "ep: 344, train_acc: 0.7237, test_acc: 0.7317,train_loss: 0.806628908511624, test_loss: 0.7792916859469513\n",
      "ep: 345, train_acc: 0.7242833333333333, test_acc: 0.7325,train_loss: 0.805459545717185, test_loss: 0.778133745618584\n",
      "ep: 346, train_acc: 0.7248833333333333, test_acc: 0.733,train_loss: 0.8042941282831874, test_loss: 0.7769841830218626\n",
      "ep: 347, train_acc: 0.7254, test_acc: 0.7333,train_loss: 0.803132487297437, test_loss: 0.7758284647953475\n",
      "ep: 348, train_acc: 0.7259166666666667, test_acc: 0.7342,train_loss: 0.8019721392429207, test_loss: 0.7746840430384598\n",
      "ep: 349, train_acc: 0.72645, test_acc: 0.7347,train_loss: 0.8008172604342018, test_loss: 0.7735449078369078\n",
      "ep: 350, train_acc: 0.7269833333333333, test_acc: 0.7347,train_loss: 0.799666458652733, test_loss: 0.7724109026110642\n",
      "ep: 351, train_acc: 0.7276333333333334, test_acc: 0.7349,train_loss: 0.7985186647096517, test_loss: 0.7712811789264088\n",
      "ep: 352, train_acc: 0.728, test_acc: 0.7356,train_loss: 0.797377256514085, test_loss: 0.7701482674779767\n",
      "ep: 353, train_acc: 0.72835, test_acc: 0.7361,train_loss: 0.7962299552215861, test_loss: 0.7690260143918778\n",
      "ep: 354, train_acc: 0.7288666666666667, test_acc: 0.7367,train_loss: 0.7950896909688846, test_loss: 0.7679060395269677\n",
      "ep: 355, train_acc: 0.7295333333333334, test_acc: 0.7377,train_loss: 0.793958499731068, test_loss: 0.7667849160990243\n",
      "ep: 356, train_acc: 0.7299666666666667, test_acc: 0.7381,train_loss: 0.7928309860274636, test_loss: 0.7656756611846255\n",
      "ep: 357, train_acc: 0.7300833333333333, test_acc: 0.7386,train_loss: 0.7917025257861665, test_loss: 0.7645709580206996\n",
      "ep: 358, train_acc: 0.7306666666666667, test_acc: 0.7388,train_loss: 0.7905805222447143, test_loss: 0.7634707195932064\n",
      "ep: 359, train_acc: 0.7313666666666667, test_acc: 0.7395,train_loss: 0.7894591432910324, test_loss: 0.7623732067669405\n",
      "ep: 360, train_acc: 0.73185, test_acc: 0.7401,train_loss: 0.7883413463557581, test_loss: 0.7612811272823635\n",
      "ep: 361, train_acc: 0.73225, test_acc: 0.7406,train_loss: 0.7872285846478906, test_loss: 0.760185301655736\n",
      "ep: 362, train_acc: 0.7326666666666667, test_acc: 0.7411,train_loss: 0.7861191050617227, test_loss: 0.7590896292394934\n",
      "ep: 363, train_acc: 0.7332666666666666, test_acc: 0.7413,train_loss: 0.7850135578353402, test_loss: 0.7579997963860835\n",
      "ep: 364, train_acc: 0.7338, test_acc: 0.742,train_loss: 0.783912983365484, test_loss: 0.7569133199162922\n",
      "ep: 365, train_acc: 0.7344666666666667, test_acc: 0.743,train_loss: 0.7828158629724786, test_loss: 0.7558282435927328\n",
      "ep: 366, train_acc: 0.7349, test_acc: 0.7431,train_loss: 0.7817274100678693, test_loss: 0.7547531367193007\n",
      "ep: 367, train_acc: 0.7352833333333333, test_acc: 0.7441,train_loss: 0.7806428097795584, test_loss: 0.7536761061714202\n",
      "ep: 368, train_acc: 0.73575, test_acc: 0.7446,train_loss: 0.7795601385845782, test_loss: 0.7525996326549599\n",
      "ep: 369, train_acc: 0.7361666666666666, test_acc: 0.745,train_loss: 0.7784809333398747, test_loss: 0.7515277455824254\n",
      "ep: 370, train_acc: 0.7366333333333334, test_acc: 0.7456,train_loss: 0.7774043870713074, test_loss: 0.7504583000384563\n",
      "ep: 371, train_acc: 0.7370833333333333, test_acc: 0.7458,train_loss: 0.776331989142215, test_loss: 0.7493964728364076\n",
      "ep: 372, train_acc: 0.7377, test_acc: 0.7465,train_loss: 0.7752605846175109, test_loss: 0.748333598861214\n",
      "ep: 373, train_acc: 0.7382, test_acc: 0.7473,train_loss: 0.774192501681999, test_loss: 0.7472777422673681\n",
      "ep: 374, train_acc: 0.7386, test_acc: 0.7477,train_loss: 0.7731261101508039, test_loss: 0.7462212771697395\n",
      "ep: 375, train_acc: 0.7389, test_acc: 0.748,train_loss: 0.7720635422307898, test_loss: 0.7451658745800248\n",
      "ep: 376, train_acc: 0.7393833333333333, test_acc: 0.7489,train_loss: 0.7710031311179409, test_loss: 0.7441233269229063\n",
      "ep: 377, train_acc: 0.7398, test_acc: 0.7493,train_loss: 0.7699472159337174, test_loss: 0.7430867255681204\n",
      "ep: 378, train_acc: 0.7403166666666666, test_acc: 0.7495,train_loss: 0.7688949631993075, test_loss: 0.7420571123794065\n",
      "ep: 379, train_acc: 0.7407333333333334, test_acc: 0.7501,train_loss: 0.7678453190268415, test_loss: 0.7410231383897099\n",
      "ep: 380, train_acc: 0.7413, test_acc: 0.7507,train_loss: 0.7667988579442757, test_loss: 0.7399861309692598\n",
      "ep: 381, train_acc: 0.7419166666666667, test_acc: 0.7511,train_loss: 0.7657543776569383, test_loss: 0.7389510240775091\n",
      "ep: 382, train_acc: 0.7421666666666666, test_acc: 0.7513,train_loss: 0.7647123113877984, test_loss: 0.7379321164316887\n",
      "ep: 383, train_acc: 0.7427333333333334, test_acc: 0.7514,train_loss: 0.7636742050245685, test_loss: 0.7369061402211436\n",
      "ep: 384, train_acc: 0.7431333333333333, test_acc: 0.7522,train_loss: 0.7626387432936963, test_loss: 0.7358823938581782\n",
      "ep: 385, train_acc: 0.7434333333333333, test_acc: 0.7528,train_loss: 0.7616063718448838, test_loss: 0.7348659851004824\n",
      "ep: 386, train_acc: 0.74375, test_acc: 0.7534,train_loss: 0.760576357192102, test_loss: 0.7338508262289615\n",
      "ep: 387, train_acc: 0.74415, test_acc: 0.7545,train_loss: 0.7595487743088711, test_loss: 0.7328416145512089\n",
      "ep: 388, train_acc: 0.7446333333333334, test_acc: 0.7549,train_loss: 0.7585253743542764, test_loss: 0.7318291466833962\n",
      "ep: 389, train_acc: 0.7451333333333333, test_acc: 0.7554,train_loss: 0.7575078408104041, test_loss: 0.7308219768633937\n",
      "ep: 390, train_acc: 0.7457666666666667, test_acc: 0.7555,train_loss: 0.756488607835675, test_loss: 0.7298067878202303\n",
      "ep: 391, train_acc: 0.7462833333333333, test_acc: 0.7559,train_loss: 0.7554770933417045, test_loss: 0.7288003206402885\n",
      "ep: 392, train_acc: 0.7465666666666667, test_acc: 0.756,train_loss: 0.754469053689296, test_loss: 0.7277905755058532\n",
      "ep: 393, train_acc: 0.7470333333333333, test_acc: 0.7568,train_loss: 0.7534656418634336, test_loss: 0.7267803936065901\n",
      "ep: 394, train_acc: 0.7474333333333333, test_acc: 0.7573,train_loss: 0.7524654309926553, test_loss: 0.7257840259731329\n",
      "ep: 395, train_acc: 0.7479, test_acc: 0.7583,train_loss: 0.7514676559966473, test_loss: 0.724791355950367\n",
      "ep: 396, train_acc: 0.7484333333333333, test_acc: 0.7586,train_loss: 0.750471913392232, test_loss: 0.7238018688728235\n",
      "ep: 397, train_acc: 0.7487166666666667, test_acc: 0.759,train_loss: 0.7494792152282319, test_loss: 0.7228139738755269\n",
      "ep: 398, train_acc: 0.7490333333333333, test_acc: 0.7594,train_loss: 0.7484898427409898, test_loss: 0.721837068866232\n",
      "ep: 399, train_acc: 0.7493666666666666, test_acc: 0.7595,train_loss: 0.7475016516640073, test_loss: 0.7208639962546185\n",
      "ep: 400, train_acc: 0.7497166666666667, test_acc: 0.7602,train_loss: 0.7465178484893832, test_loss: 0.7198924226442965\n",
      "ep: 401, train_acc: 0.7501333333333333, test_acc: 0.7607,train_loss: 0.7455343612220694, test_loss: 0.7189231686166925\n",
      "ep: 402, train_acc: 0.7505166666666667, test_acc: 0.7609,train_loss: 0.744556734371064, test_loss: 0.7179617025351321\n",
      "ep: 403, train_acc: 0.7508333333333334, test_acc: 0.7615,train_loss: 0.7435823573315782, test_loss: 0.7169952084667474\n",
      "ep: 404, train_acc: 0.7514166666666666, test_acc: 0.7622,train_loss: 0.7426101540824647, test_loss: 0.7160425323660625\n",
      "ep: 405, train_acc: 0.752, test_acc: 0.7628,train_loss: 0.7416433099916914, test_loss: 0.7150884068847229\n",
      "ep: 406, train_acc: 0.7522166666666666, test_acc: 0.7627,train_loss: 0.7406812967868528, test_loss: 0.7141356853573803\n",
      "ep: 407, train_acc: 0.7528, test_acc: 0.7631,train_loss: 0.7397241642108301, test_loss: 0.7131827840079971\n",
      "ep: 408, train_acc: 0.7532666666666666, test_acc: 0.7635,train_loss: 0.7387713679470692, test_loss: 0.7122401119486441\n",
      "ep: 409, train_acc: 0.7536833333333334, test_acc: 0.7639,train_loss: 0.7378213069135735, test_loss: 0.711299215430481\n",
      "ep: 410, train_acc: 0.754, test_acc: 0.764,train_loss: 0.7368752321433975, test_loss: 0.7103627673493511\n",
      "ep: 411, train_acc: 0.7545666666666667, test_acc: 0.7647,train_loss: 0.7359346543626135, test_loss: 0.7094353362144575\n",
      "ep: 412, train_acc: 0.7549333333333333, test_acc: 0.7648,train_loss: 0.7349951736796327, test_loss: 0.7085045656031728\n",
      "ep: 413, train_acc: 0.75555, test_acc: 0.7653,train_loss: 0.7340579599002336, test_loss: 0.7075738546323936\n",
      "ep: 414, train_acc: 0.756, test_acc: 0.7654,train_loss: 0.7331244161349264, test_loss: 0.7066525259085829\n",
      "ep: 415, train_acc: 0.7562666666666666, test_acc: 0.7657,train_loss: 0.7321924334500934, test_loss: 0.705727486483094\n",
      "ep: 416, train_acc: 0.7568, test_acc: 0.7662,train_loss: 0.7312645520134109, test_loss: 0.7047991600051304\n",
      "ep: 417, train_acc: 0.7571, test_acc: 0.7664,train_loss: 0.7303391774504652, test_loss: 0.7038811241197739\n",
      "ep: 418, train_acc: 0.7575166666666666, test_acc: 0.7668,train_loss: 0.7294165488369915, test_loss: 0.7029712599506724\n",
      "ep: 419, train_acc: 0.7579166666666667, test_acc: 0.7671,train_loss: 0.7284976503097668, test_loss: 0.7020578271004915\n",
      "ep: 420, train_acc: 0.7583666666666666, test_acc: 0.7676,train_loss: 0.7275814145220733, test_loss: 0.7011467727549812\n",
      "ep: 421, train_acc: 0.7587, test_acc: 0.7681,train_loss: 0.7266675599200512, test_loss: 0.7002384054649473\n",
      "ep: 422, train_acc: 0.7591333333333333, test_acc: 0.7686,train_loss: 0.725758424880371, test_loss: 0.699330117414523\n",
      "ep: 423, train_acc: 0.7594166666666666, test_acc: 0.7692,train_loss: 0.7248531299871968, test_loss: 0.6984306551754593\n",
      "ep: 424, train_acc: 0.7596666666666667, test_acc: 0.7696,train_loss: 0.7239499883670332, test_loss: 0.6975216218532058\n",
      "ep: 425, train_acc: 0.7602333333333333, test_acc: 0.7699,train_loss: 0.7230497101957358, test_loss: 0.69662983073847\n",
      "ep: 426, train_acc: 0.76055, test_acc: 0.7705,train_loss: 0.7221508878384524, test_loss: 0.695737934301707\n",
      "ep: 427, train_acc: 0.7608333333333334, test_acc: 0.7714,train_loss: 0.7212552012294885, test_loss: 0.6948536760553077\n",
      "ep: 428, train_acc: 0.7610166666666667, test_acc: 0.772,train_loss: 0.7203652534630164, test_loss: 0.6939692637819163\n",
      "ep: 429, train_acc: 0.7614166666666666, test_acc: 0.7724,train_loss: 0.7194769192411279, test_loss: 0.6930904686675718\n",
      "ep: 430, train_acc: 0.7616666666666667, test_acc: 0.7728,train_loss: 0.7185924103626429, test_loss: 0.6922125801754855\n",
      "ep: 431, train_acc: 0.7621166666666667, test_acc: 0.773,train_loss: 0.7177104221900542, test_loss: 0.6913426163682163\n",
      "ep: 432, train_acc: 0.7625333333333333, test_acc: 0.7731,train_loss: 0.7168301382311443, test_loss: 0.6904733162914153\n",
      "ep: 433, train_acc: 0.7628833333333334, test_acc: 0.7735,train_loss: 0.7159527644959551, test_loss: 0.6896100808326847\n",
      "ep: 434, train_acc: 0.76335, test_acc: 0.7737,train_loss: 0.7150788422538459, test_loss: 0.6887476367952301\n",
      "ep: 435, train_acc: 0.7635166666666666, test_acc: 0.7741,train_loss: 0.7142094043749899, test_loss: 0.6878951159567815\n",
      "ep: 436, train_acc: 0.7637833333333334, test_acc: 0.7745,train_loss: 0.7133453959296572, test_loss: 0.6870427564968276\n",
      "ep: 437, train_acc: 0.7641833333333333, test_acc: 0.7748,train_loss: 0.7124846874506807, test_loss: 0.6861897539105672\n",
      "ep: 438, train_acc: 0.7644333333333333, test_acc: 0.7754,train_loss: 0.7116276343798239, test_loss: 0.6853399285710061\n",
      "ep: 439, train_acc: 0.7648166666666667, test_acc: 0.7757,train_loss: 0.7107739215585157, test_loss: 0.684498867993152\n",
      "ep: 440, train_acc: 0.7651666666666667, test_acc: 0.7765,train_loss: 0.7099232605837729, test_loss: 0.6836581195443956\n",
      "ep: 441, train_acc: 0.7654833333333333, test_acc: 0.7768,train_loss: 0.7090748159520636, test_loss: 0.6828179617729542\n",
      "ep: 442, train_acc: 0.7656666666666667, test_acc: 0.7769,train_loss: 0.7082299710482429, test_loss: 0.6819811356449919\n",
      "ep: 443, train_acc: 0.7660333333333333, test_acc: 0.7772,train_loss: 0.7073900245626349, test_loss: 0.681151728382762\n",
      "ep: 444, train_acc: 0.7662833333333333, test_acc: 0.7777,train_loss: 0.7065529918304714, test_loss: 0.6803230532469186\n",
      "ep: 445, train_acc: 0.7668166666666667, test_acc: 0.7776,train_loss: 0.7057211529999134, test_loss: 0.6794912293445384\n",
      "ep: 446, train_acc: 0.7671166666666667, test_acc: 0.7778,train_loss: 0.7048908703013206, test_loss: 0.6786633641892256\n",
      "ep: 447, train_acc: 0.7674666666666666, test_acc: 0.7782,train_loss: 0.7040641335185904, test_loss: 0.6778421414388892\n",
      "ep: 448, train_acc: 0.7677, test_acc: 0.7789,train_loss: 0.703238566112575, test_loss: 0.6770178389699911\n",
      "ep: 449, train_acc: 0.7680333333333333, test_acc: 0.7791,train_loss: 0.7024148719465948, test_loss: 0.6761973583176798\n",
      "ep: 450, train_acc: 0.7683666666666666, test_acc: 0.7796,train_loss: 0.7015929325608647, test_loss: 0.6753812802603071\n",
      "ep: 451, train_acc: 0.7686833333333334, test_acc: 0.7801,train_loss: 0.7007729238297506, test_loss: 0.6745614617910448\n",
      "ep: 452, train_acc: 0.7688, test_acc: 0.781,train_loss: 0.699957894620512, test_loss: 0.6737525640051176\n",
      "ep: 453, train_acc: 0.7690833333333333, test_acc: 0.7813,train_loss: 0.699145056214526, test_loss: 0.6729482908513493\n",
      "ep: 454, train_acc: 0.7694333333333333, test_acc: 0.7816,train_loss: 0.6983349688212523, test_loss: 0.6721458843794039\n",
      "ep: 455, train_acc: 0.7696666666666667, test_acc: 0.782,train_loss: 0.6975284311094213, test_loss: 0.6713461099465\n",
      "ep: 456, train_acc: 0.7700333333333333, test_acc: 0.7828,train_loss: 0.6967248748217673, test_loss: 0.6705468087098877\n",
      "ep: 457, train_acc: 0.77025, test_acc: 0.7836,train_loss: 0.6959243951059038, test_loss: 0.6697479516371933\n",
      "ep: 458, train_acc: 0.7707166666666667, test_acc: 0.7838,train_loss: 0.6951259552927379, test_loss: 0.6689512583663417\n",
      "ep: 459, train_acc: 0.7709833333333334, test_acc: 0.7845,train_loss: 0.6943310375349323, test_loss: 0.6681615158954123\n",
      "ep: 460, train_acc: 0.7712166666666667, test_acc: 0.7845,train_loss: 0.6935390806078673, test_loss: 0.6673777257568462\n",
      "ep: 461, train_acc: 0.77145, test_acc: 0.785,train_loss: 0.6927505542435496, test_loss: 0.6665890761326321\n",
      "ep: 462, train_acc: 0.7717833333333334, test_acc: 0.7852,train_loss: 0.691966125528026, test_loss: 0.6658090457996604\n",
      "ep: 463, train_acc: 0.7721, test_acc: 0.7854,train_loss: 0.6911827752111332, test_loss: 0.6650276764959834\n",
      "ep: 464, train_acc: 0.7725, test_acc: 0.7858,train_loss: 0.6904008553924371, test_loss: 0.6642447690157409\n",
      "ep: 465, train_acc: 0.77295, test_acc: 0.7862,train_loss: 0.6896221229313743, test_loss: 0.6634731837458179\n",
      "ep: 466, train_acc: 0.7730666666666667, test_acc: 0.7866,train_loss: 0.6888468246168681, test_loss: 0.6626996011825934\n",
      "ep: 467, train_acc: 0.7733166666666667, test_acc: 0.7873,train_loss: 0.68807507341017, test_loss: 0.6619295777016663\n",
      "ep: 468, train_acc: 0.7735833333333333, test_acc: 0.7873,train_loss: 0.6873060928913459, test_loss: 0.6611621597056605\n",
      "ep: 469, train_acc: 0.7739166666666667, test_acc: 0.7876,train_loss: 0.6865411175965717, test_loss: 0.6603965868616858\n",
      "ep: 470, train_acc: 0.7741833333333333, test_acc: 0.7876,train_loss: 0.6857792475388447, test_loss: 0.6596354477376397\n",
      "ep: 471, train_acc: 0.7747, test_acc: 0.7881,train_loss: 0.6850175372953091, test_loss: 0.658876814718285\n",
      "ep: 472, train_acc: 0.7750666666666667, test_acc: 0.7883,train_loss: 0.6842627909309098, test_loss: 0.658124752135512\n",
      "ep: 473, train_acc: 0.7754, test_acc: 0.7885,train_loss: 0.6835098146154773, test_loss: 0.6573764077696584\n",
      "ep: 474, train_acc: 0.7758833333333334, test_acc: 0.789,train_loss: 0.6827583164889057, test_loss: 0.6566338707809547\n",
      "ep: 475, train_acc: 0.7763, test_acc: 0.7895,train_loss: 0.6820112164608644, test_loss: 0.6558925667144788\n",
      "ep: 476, train_acc: 0.7767333333333334, test_acc: 0.7897,train_loss: 0.6812679028626234, test_loss: 0.6551454922338028\n",
      "ep: 477, train_acc: 0.7769833333333334, test_acc: 0.7903,train_loss: 0.6805285342076691, test_loss: 0.6544112953662526\n",
      "ep: 478, train_acc: 0.7773666666666667, test_acc: 0.7904,train_loss: 0.6797918540589412, test_loss: 0.6536778160669413\n",
      "ep: 479, train_acc: 0.7777333333333334, test_acc: 0.7901,train_loss: 0.6790567372742372, test_loss: 0.652946089114463\n",
      "ep: 480, train_acc: 0.7779666666666667, test_acc: 0.7906,train_loss: 0.6783266152276958, test_loss: 0.6522199475876455\n",
      "ep: 481, train_acc: 0.7782833333333333, test_acc: 0.7908,train_loss: 0.6775987145493633, test_loss: 0.6514984904501602\n",
      "ep: 482, train_acc: 0.7784833333333333, test_acc: 0.7911,train_loss: 0.6768731899005344, test_loss: 0.650772721468924\n",
      "ep: 483, train_acc: 0.7788333333333334, test_acc: 0.7914,train_loss: 0.6761497595387819, test_loss: 0.6500590242127469\n",
      "ep: 484, train_acc: 0.7789666666666667, test_acc: 0.7918,train_loss: 0.6754290711787005, test_loss: 0.6493505548482396\n",
      "ep: 485, train_acc: 0.7792166666666667, test_acc: 0.7922,train_loss: 0.6747119199189172, test_loss: 0.6486429999351219\n",
      "ep: 486, train_acc: 0.7796, test_acc: 0.7925,train_loss: 0.6739984707656843, test_loss: 0.6479445792183731\n",
      "ep: 487, train_acc: 0.77975, test_acc: 0.7929,train_loss: 0.6732881289958541, test_loss: 0.6472437399867319\n",
      "ep: 488, train_acc: 0.77995, test_acc: 0.7932,train_loss: 0.6725797212568059, test_loss: 0.6465471157396554\n",
      "ep: 489, train_acc: 0.7802666666666667, test_acc: 0.7936,train_loss: 0.6718742220539827, test_loss: 0.6458545538777657\n",
      "ep: 490, train_acc: 0.7805166666666666, test_acc: 0.7936,train_loss: 0.6711733265114692, test_loss: 0.6451626784443603\n",
      "ep: 491, train_acc: 0.7807166666666666, test_acc: 0.7944,train_loss: 0.6704748684214594, test_loss: 0.6444831287750226\n",
      "ep: 492, train_acc: 0.78095, test_acc: 0.7946,train_loss: 0.6697787193839582, test_loss: 0.6437941358384156\n",
      "ep: 493, train_acc: 0.7812666666666667, test_acc: 0.7945,train_loss: 0.6690847543837847, test_loss: 0.6431088501947062\n",
      "ep: 494, train_acc: 0.7815666666666666, test_acc: 0.7946,train_loss: 0.6683915876203128, test_loss: 0.6424247927588504\n",
      "ep: 495, train_acc: 0.7817833333333334, test_acc: 0.795,train_loss: 0.6677009473395076, test_loss: 0.6417423388875594\n",
      "ep: 496, train_acc: 0.78215, test_acc: 0.795,train_loss: 0.6670137589145153, test_loss: 0.6410662740270758\n",
      "ep: 497, train_acc: 0.7824166666666666, test_acc: 0.7953,train_loss: 0.6663290110926396, test_loss: 0.6403901333389626\n",
      "ep: 498, train_acc: 0.7827333333333333, test_acc: 0.7955,train_loss: 0.6656459312737079, test_loss: 0.6397190074891063\n",
      "ep: 499, train_acc: 0.7831333333333333, test_acc: 0.7955,train_loss: 0.66496576889748, test_loss: 0.6390484714394302\n"
     ]
    }
   ],
   "source": [
    "from complete_nn import NeuralNetwork\n",
    "\n",
    "nn = NeuralNetwork(x,y,num_layers=4,eta=0.0004,num_nodes=[5,5,5,5],max_iters=500,batch_size=100)\n",
    "\n",
    "# [300,200,100,50] ep: 178, train_acc: 0.9566666666666667, test_acc: 0.9352,train_loss: 0.49541677856592786, test_loss: 0.8889734955337\n",
    "nn.train()"
   ]
  },
  {
   "cell_type": "code",
   "execution_count": 10,
   "metadata": {},
   "outputs": [
    {
     "data": {
      "text/plain": [
       "[<matplotlib.lines.Line2D at 0x7f8c21c11b70>]"
      ]
     },
     "execution_count": 10,
     "metadata": {},
     "output_type": "execute_result"
    },
    {
     "data": {
      "image/png": "[encoded data removed]",
      "text/plain": [
       "<Figure size 432x288 with 1 Axes>"
      ]
     },
     "metadata": {
      "needs_background": "light"
     },
     "output_type": "display_data"
    }
   ],
   "source": [
    "plt.plot(nn.loss[\"test\"])"
   ]
  },
  {
   "cell_type": "markdown",
   "metadata": {},
   "source": [
    "## above Test loss"
   ]
  },
  {
   "cell_type": "code",
   "execution_count": 11,
   "metadata": {},
   "outputs": [
    {
     "data": {
      "text/plain": [
       "[<matplotlib.lines.Line2D at 0x7f8c21bb3c50>]"
      ]
     },
     "execution_count": 11,
     "metadata": {},
     "output_type": "execute_result"
    },
    {
     "data": {
      "image/png": "[encoded data removed]",
      "text/plain": [
       "<Figure size 432x288 with 1 Axes>"
      ]
     },
     "metadata": {
      "needs_background": "light"
     },
     "output_type": "display_data"
    }
   ],
   "source": [
    "plt.plot(nn.loss[\"train\"])"
   ]
  },
  {
   "cell_type": "markdown",
   "metadata": {},
   "source": [
    "## above Train loss"
   ]
  },
  {
   "cell_type": "code",
   "execution_count": 12,
   "metadata": {},
   "outputs": [
    {
     "data": {
      "text/plain": [
       "[<matplotlib.lines.Line2D at 0x7f8c216d9320>]"
      ]
     },
     "execution_count": 12,
     "metadata": {},
     "output_type": "execute_result"
    },
    {
     "data": {
      "image/png": "[encoded data removed]",
      "text/plain": [
       "<Figure size 432x288 with 1 Axes>"
      ]
     },
     "metadata": {
      "needs_background": "light"
     },
     "output_type": "display_data"
    }
   ],
   "source": [
    "plt.plot(nn.misclassification[\"test\"])"
   ]
  },
  {
   "cell_type": "markdown",
   "metadata": {},
   "source": [
    "## above missclassification test"
   ]
  },
  {
   "cell_type": "code",
   "execution_count": 13,
   "metadata": {},
   "outputs": [
    {
     "data": {
      "text/plain": [
       "[<matplotlib.lines.Line2D at 0x7f8c2163b710>]"
      ]
     },
     "execution_count": 13,
     "metadata": {},
     "output_type": "execute_result"
    },
    {
     "data": {
      "image/png": "[encoded data removed]",
      "text/plain": [
       "<Figure size 432x288 with 1 Axes>"
      ]
     },
     "metadata": {
      "needs_background": "light"
     },
     "output_type": "display_data"
    }
   ],
   "source": [
    "plt.plot(nn.accuracy[\"test\"])"
   ]
  },
  {
   "cell_type": "markdown",
   "metadata": {},
   "source": [
    "## above accuracy test"
   ]
  },
  {
   "cell_type": "code",
   "execution_count": 14,
   "metadata": {},
   "outputs": [
    {
     "data": {
      "text/plain": [
       "[<matplotlib.lines.Line2D at 0x7f8c21624c18>]"
      ]
     },
     "execution_count": 14,
     "metadata": {},
     "output_type": "execute_result"
    },
    {
     "data": {
      "image/png": "[encoded data removed]",
      "text/plain": [
       "<Figure size 432x288 with 1 Axes>"
      ]
     },
     "metadata": {
      "needs_background": "light"
     },
     "output_type": "display_data"
    }
   ],
   "source": [
    "plt.plot(nn.accuracy[\"train\"])"
   ]
  },
  {
   "cell_type": "markdown",
   "metadata": {},
   "source": [
    "# above accuracy train"
   ]
  }
 ],
 "metadata": {
  "kernelspec": {
   "display_name": "Python 3",
   "language": "python",
   "name": "python3"
  },
  "language_info": {
   "codemirror_mode": {
    "name": "ipython",
    "version": 3
   },
   "file_extension": ".py",
   "mimetype": "text/x-python",
   "name": "python",
   "nbconvert_exporter": "python",
   "pygments_lexer": "ipython3",
   "version": "3.6.8"
  }
 },
 "nbformat": 4,
 "nbformat_minor": 2
}
